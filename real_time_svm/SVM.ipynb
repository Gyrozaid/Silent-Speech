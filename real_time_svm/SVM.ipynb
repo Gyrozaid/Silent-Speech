{
 "cells": [
  {
   "cell_type": "code",
   "execution_count": 25,
   "metadata": {
    "id": "kYdzi_jZK5YQ"
   },
   "outputs": [],
   "source": [
    "import os\n",
    "import pickle\n",
    "import numpy as np\n",
    "import pandas as pd\n",
    "import seaborn as sns\n",
    "from sklearn.svm import SVC\n",
    "import matplotlib.pyplot as plt\n",
    "from sklearn.preprocessing import StandardScaler\n",
    "from sklearn.preprocessing import MinMaxScaler, LabelEncoder\n",
    "from sklearn.model_selection import StratifiedKFold\n",
    "\n",
    "from sklearn.neighbors import KNeighborsClassifier\n",
    "from sklearn.metrics import classification_report, accuracy_score, confusion_matrix, roc_auc_score, recall_score, precision_score, f1_score\n",
    "from sklearn.model_selection import train_test_split\n"
   ]
  },
  {
   "cell_type": "code",
   "execution_count": 26,
   "metadata": {},
   "outputs": [],
   "source": [
    "path_to_data = \"C:\\\\Users\\\\ryanz\\\\Documents\\\\CS528\\\\project\\\\real_time_svm\\\\data\"\n",
    "\n",
    "data = {}\n",
    "gestures = [\"play\", \"pause\", \"skip\", 'rewind']\n",
    "\n",
    "for filename in os.listdir(path_to_data):\n",
    "    df = pd.read_csv(path_to_data + \"\\\\\" + filename)\n",
    "    df = df.reset_index().rename(columns={'index': 'Sample Num'})\n",
    "\n",
    "    for gesture in gestures:\n",
    "        if gesture in filename:\n",
    "            if gesture not in data:\n",
    "                data[gesture] = {filename: df}\n",
    "            else:\n",
    "                data[gesture][filename] = df\n",
    "                \n",
    "    \n",
    "\n",
    "    \n"
   ]
  },
  {
   "cell_type": "code",
   "execution_count": 27,
   "metadata": {},
   "outputs": [
    {
     "name": "stdout",
     "output_type": "stream",
     "text": [
      "300\n"
     ]
    }
   ],
   "source": [
    "\n",
    "max_length = 0\n",
    "for gesture in data:\n",
    "    for filename in data[gesture]:\n",
    "        df = data[gesture][filename]\n",
    "        max_length = max(max_length, df.shape[0])\n",
    "\n",
    "X = []\n",
    "y = []\n",
    "scaler = MinMaxScaler()\n",
    "target_length = max_length\n",
    "print(target_length)\n",
    "fitted = False\n",
    "\n",
    "for gesture in data:\n",
    "    for filename in data[gesture]:\n",
    "        df = data[gesture][filename]\n",
    "        vals = df[['acc_x', 'acc_y', 'acc_z', 'gyro_x', 'gyro_y', 'gyro_z']].values.astype(np.float32)\n",
    "        \n",
    "        if not fitted:\n",
    "            vals = scaler.fit_transform(vals)\n",
    "            scaler_filename = 'scaler.pkl'\n",
    "            with open(scaler_filename, \"wb\") as f:\n",
    "                pickle.dump(scaler, f)\n",
    "\n",
    "            fitted = True\n",
    "        else:\n",
    "            vals = scaler.transform(vals)\n",
    "            \n",
    "        #pad arrays with zeros\n",
    "        if vals.shape[0] < target_length:\n",
    "            padding = np.zeros((target_length - vals.shape[0], vals.shape[1]))\n",
    "            vals = np.vstack((vals, padding))\n",
    "        else:\n",
    "            vals = vals[:target_length, :]\n",
    "        \n",
    "        X.append(vals.flatten())\n",
    "        y.append(gesture)\n",
    "\n",
    "X = np.array(X)\n",
    "y = np.array(y)\n"
   ]
  },
  {
   "cell_type": "code",
   "execution_count": 28,
   "metadata": {
    "id": "tw0AqcaAZOlT"
   },
   "outputs": [],
   "source": [
    "def train_svm_cross_validated(X, y):\n",
    "    skf = StratifiedKFold(n_splits=5, shuffle=True)\n",
    "    le = LabelEncoder()\n",
    "    accuracies = []\n",
    "    precisions = []\n",
    "    recalls = []\n",
    "    f1s = []\n",
    "    for i, (train_index, test_index) in enumerate(skf.split(X, y)):\n",
    "        X_train, X_test = X[train_index], X[test_index]\n",
    "        y_train, y_test = y[train_index], y[test_index]\n",
    "        \n",
    "        \n",
    "        svm_classifier = SVC(kernel='rbf')\n",
    "        svm_classifier.fit(X_train, y_train)\n",
    "        \n",
    "        y_pred = svm_classifier.predict(X_test)\n",
    "        \n",
    "        y_test_encoded = le.fit_transform(y_test)\n",
    "        y_pred_encoded = le.transform(y_pred)\n",
    "        \n",
    "        \n",
    "        accuracies.append(accuracy_score(y_test_encoded, y_pred_encoded))\n",
    "        precisions.append(precision_score(y_test_encoded, y_pred_encoded, average='macro'))\n",
    "        recalls.append(recall_score(y_test_encoded, y_pred_encoded, average='macro'))\n",
    "        f1s.append(f1_score(y_test_encoded, y_pred_encoded, average='macro'))\n",
    "        \n",
    "        \n",
    "        \n",
    "        \n",
    "        print(f\"Fold {i} accuracy: {accuracy_score(y_test_encoded, y_pred_encoded)}\")\n",
    "        \n",
    "        conf_matrix = confusion_matrix(y_test, y_pred)\n",
    "        sns.heatmap(conf_matrix, annot=True, cmap=\"Blues\", xticklabels=gestures, yticklabels=gestures)\n",
    "        plt.title('train')\n",
    "        plt.xlabel('pred')\n",
    "        plt.ylabel('actual')\n",
    "        plt.show()\n",
    "        \n",
    "    return accuracies, precisions, recalls, f1s"
   ]
  },
  {
   "cell_type": "code",
   "execution_count": 29,
   "metadata": {},
   "outputs": [],
   "source": [
    "def train_svm(X, y):\n",
    "    X_train, X_test, y_train, y_test = train_test_split(X, y, test_size=.2, stratify=y)\n",
    "    svm_classifier = SVC(kernel='linear')\n",
    "    svm_classifier.fit(X_train, y_train)\n",
    "    \n",
    "    y_pred = svm_classifier.predict(X_test)\n",
    "    \n",
    "    \n",
    "    \n",
    "    accuracy = accuracy_score(y_test, y_pred)\n",
    "    precision = precision_score(y_test, y_pred, average='macro')\n",
    "    recall = recall_score(y_test, y_pred, average='macro')\n",
    "    f1 = f1_score(y_test, y_pred, average='macro')\n",
    "\n",
    "    \n",
    "    \n",
    "    print(f\"Accuracy: {accuracy}\")\n",
    "    \n",
    "    conf_matrix = confusion_matrix(y_test, y_pred)\n",
    "    sns.heatmap(conf_matrix, annot=True, cmap=\"Blues\", xticklabels=gestures, yticklabels=gestures)\n",
    "    plt.title('train')\n",
    "    plt.xlabel('pred')\n",
    "    plt.ylabel('actual')\n",
    "    plt.show()\n",
    "    return accuracy, precision, recall, f1\n"
   ]
  },
  {
   "cell_type": "code",
   "execution_count": 30,
   "metadata": {},
   "outputs": [],
   "source": [
    "def train_svm_no_test(X, y):\n",
    "    svm_classifier = SVC(kernel='rbf', probability=True)\n",
    "    svm_classifier.fit(X, y)    \n",
    "    \n",
    "    model_filename = \"svm_model.pkl\"\n",
    "    with open(model_filename, \"wb\") as f:\n",
    "        pickle.dump(svm_classifier, f)\n",
    "\n",
    "\n",
    "    \n",
    "    \n"
   ]
  },
  {
   "cell_type": "markdown",
   "metadata": {
    "id": "fCArqiNpea_g"
   },
   "source": [
    "### SVM"
   ]
  },
  {
   "cell_type": "code",
   "execution_count": 31,
   "metadata": {},
   "outputs": [
    {
     "name": "stdout",
     "output_type": "stream",
     "text": [
      "Accuracy: 1.0\n"
     ]
    },
    {
     "data": {
      "image/png": "[encoded data removed]",
      "text/plain": [
       "<Figure size 640x480 with 2 Axes>"
      ]
     },
     "metadata": {},
     "output_type": "display_data"
    },
    {
     "data": {
      "text/plain": [
       "(1.0, 1.0, 1.0, 1.0)"
      ]
     },
     "execution_count": 31,
     "metadata": {},
     "output_type": "execute_result"
    }
   ],
   "source": [
    "train_svm(X, y)"
   ]
  },
  {
   "cell_type": "code",
   "execution_count": 32,
   "metadata": {},
   "outputs": [],
   "source": [
    "train_svm_no_test(X, y)"
   ]
  }
 ],
 "metadata": {
  "colab": {
   "provenance": []
  },
  "kernelspec": {
   "display_name": "signal_analysis",
   "language": "python",
   "name": "python3"
  },
  "language_info": {
   "codemirror_mode": {
    "name": "ipython",
    "version": 3
   },
   "file_extension": ".py",
   "mimetype": "text/x-python",
   "name": "python",
   "nbconvert_exporter": "python",
   "pygments_lexer": "ipython3",
   "version": "3.11.10"
  }
 },
 "nbformat": 4,
 "nbformat_minor": 0
}
